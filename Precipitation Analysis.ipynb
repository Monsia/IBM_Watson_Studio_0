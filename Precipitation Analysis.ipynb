{
    "cells": [
        {
            "cell_type": "code",
            "execution_count": 1,
            "metadata": {},
            "outputs": [
                {
                    "data": {
                        "text/html": "<div>\n<style scoped>\n    .dataframe tbody tr th:only-of-type {\n        vertical-align: middle;\n    }\n\n    .dataframe tbody tr th {\n        vertical-align: top;\n    }\n\n    .dataframe thead th {\n        text-align: right;\n    }\n</style>\n<table border=\"1\" class=\"dataframe\">\n  <thead>\n    <tr style=\"text-align: right;\">\n      <th></th>\n      <th>STATION</th>\n      <th>STATION_NAME</th>\n      <th>ELEVATION</th>\n      <th>LATITUDE</th>\n      <th>LONGITUDE</th>\n      <th>DATE</th>\n      <th>HLY-TEMP-NORMAL</th>\n      <th>HLY-PRES-NORMAL</th>\n      <th>HLY-DEWP-NORMAL</th>\n    </tr>\n  </thead>\n  <tbody>\n    <tr>\n      <th>0</th>\n      <td>GHCND:USW00003812</td>\n      <td>ASHEVILLE REGIONAL AIRPORT NC US</td>\n      <td>645.3</td>\n      <td>35.43194</td>\n      <td>-82.5375</td>\n      <td>20100101 00:00</td>\n      <td>349</td>\n      <td>10205</td>\n      <td>289</td>\n    </tr>\n    <tr>\n      <th>1</th>\n      <td>GHCND:USW00003812</td>\n      <td>ASHEVILLE REGIONAL AIRPORT NC US</td>\n      <td>645.3</td>\n      <td>35.43194</td>\n      <td>-82.5375</td>\n      <td>20100101 01:00</td>\n      <td>344</td>\n      <td>10202</td>\n      <td>287</td>\n    </tr>\n    <tr>\n      <th>2</th>\n      <td>GHCND:USW00003812</td>\n      <td>ASHEVILLE REGIONAL AIRPORT NC US</td>\n      <td>645.3</td>\n      <td>35.43194</td>\n      <td>-82.5375</td>\n      <td>20100101 02:00</td>\n      <td>339</td>\n      <td>10200</td>\n      <td>284</td>\n    </tr>\n    <tr>\n      <th>3</th>\n      <td>GHCND:USW00003812</td>\n      <td>ASHEVILLE REGIONAL AIRPORT NC US</td>\n      <td>645.3</td>\n      <td>35.43194</td>\n      <td>-82.5375</td>\n      <td>20100101 03:00</td>\n      <td>334</td>\n      <td>10202</td>\n      <td>283</td>\n    </tr>\n    <tr>\n      <th>4</th>\n      <td>GHCND:USW00003812</td>\n      <td>ASHEVILLE REGIONAL AIRPORT NC US</td>\n      <td>645.3</td>\n      <td>35.43194</td>\n      <td>-82.5375</td>\n      <td>20100101 04:00</td>\n      <td>331</td>\n      <td>10202</td>\n      <td>280</td>\n    </tr>\n  </tbody>\n</table>\n</div>",
                        "text/plain": "             STATION                      STATION_NAME  ELEVATION  LATITUDE  \\\n0  GHCND:USW00003812  ASHEVILLE REGIONAL AIRPORT NC US      645.3  35.43194   \n1  GHCND:USW00003812  ASHEVILLE REGIONAL AIRPORT NC US      645.3  35.43194   \n2  GHCND:USW00003812  ASHEVILLE REGIONAL AIRPORT NC US      645.3  35.43194   \n3  GHCND:USW00003812  ASHEVILLE REGIONAL AIRPORT NC US      645.3  35.43194   \n4  GHCND:USW00003812  ASHEVILLE REGIONAL AIRPORT NC US      645.3  35.43194   \n\n   LONGITUDE            DATE  HLY-TEMP-NORMAL  HLY-PRES-NORMAL  \\\n0   -82.5375  20100101 00:00              349            10205   \n1   -82.5375  20100101 01:00              344            10202   \n2   -82.5375  20100101 02:00              339            10200   \n3   -82.5375  20100101 03:00              334            10202   \n4   -82.5375  20100101 04:00              331            10202   \n\n   HLY-DEWP-NORMAL  \n0              289  \n1              287  \n2              284  \n3              283  \n4              280  "
                    },
                    "execution_count": 1,
                    "metadata": {},
                    "output_type": "execute_result"
                }
            ],
            "source": "# The code was removed by Watson Studio for sharing."
        },
        {
            "cell_type": "code",
            "execution_count": 2,
            "metadata": {},
            "outputs": [
                {
                    "data": {
                        "text/plain": "(744, 9)"
                    },
                    "execution_count": 2,
                    "metadata": {},
                    "output_type": "execute_result"
                }
            ],
            "source": "df_data_1.shape"
        },
        {
            "cell_type": "code",
            "execution_count": 3,
            "metadata": {},
            "outputs": [
                {
                    "data": {
                        "text/html": "<div>\n<style scoped>\n    .dataframe tbody tr th:only-of-type {\n        vertical-align: middle;\n    }\n\n    .dataframe tbody tr th {\n        vertical-align: top;\n    }\n\n    .dataframe thead th {\n        text-align: right;\n    }\n</style>\n<table border=\"1\" class=\"dataframe\">\n  <thead>\n    <tr style=\"text-align: right;\">\n      <th></th>\n      <th>ELEVATION</th>\n      <th>LATITUDE</th>\n      <th>LONGITUDE</th>\n      <th>HLY-TEMP-NORMAL</th>\n      <th>HLY-PRES-NORMAL</th>\n      <th>HLY-DEWP-NORMAL</th>\n    </tr>\n  </thead>\n  <tbody>\n    <tr>\n      <th>count</th>\n      <td>7.440000e+02</td>\n      <td>7.440000e+02</td>\n      <td>7.440000e+02</td>\n      <td>744.000000</td>\n      <td>744.000000</td>\n      <td>744.000000</td>\n    </tr>\n    <tr>\n      <th>mean</th>\n      <td>6.453000e+02</td>\n      <td>3.543194e+01</td>\n      <td>-8.253750e+01</td>\n      <td>364.862903</td>\n      <td>10198.615591</td>\n      <td>263.716398</td>\n    </tr>\n    <tr>\n      <th>std</th>\n      <td>7.849669e-12</td>\n      <td>3.697308e-13</td>\n      <td>9.954290e-13</td>\n      <td>50.348316</td>\n      <td>8.668259</td>\n      <td>14.235151</td>\n    </tr>\n    <tr>\n      <th>min</th>\n      <td>6.453000e+02</td>\n      <td>3.543194e+01</td>\n      <td>-8.253750e+01</td>\n      <td>290.000000</td>\n      <td>10179.000000</td>\n      <td>237.000000</td>\n    </tr>\n    <tr>\n      <th>25%</th>\n      <td>6.453000e+02</td>\n      <td>3.543194e+01</td>\n      <td>-8.253750e+01</td>\n      <td>322.000000</td>\n      <td>10193.000000</td>\n      <td>253.000000</td>\n    </tr>\n    <tr>\n      <th>50%</th>\n      <td>6.453000e+02</td>\n      <td>3.543194e+01</td>\n      <td>-8.253750e+01</td>\n      <td>352.000000</td>\n      <td>10199.000000</td>\n      <td>260.000000</td>\n    </tr>\n    <tr>\n      <th>75%</th>\n      <td>6.453000e+02</td>\n      <td>3.543194e+01</td>\n      <td>-8.253750e+01</td>\n      <td>407.250000</td>\n      <td>10204.250000</td>\n      <td>274.250000</td>\n    </tr>\n    <tr>\n      <th>max</th>\n      <td>6.453000e+02</td>\n      <td>3.543194e+01</td>\n      <td>-8.253750e+01</td>\n      <td>465.000000</td>\n      <td>10221.000000</td>\n      <td>297.000000</td>\n    </tr>\n  </tbody>\n</table>\n</div>",
                        "text/plain": "          ELEVATION      LATITUDE     LONGITUDE  HLY-TEMP-NORMAL  \\\ncount  7.440000e+02  7.440000e+02  7.440000e+02       744.000000   \nmean   6.453000e+02  3.543194e+01 -8.253750e+01       364.862903   \nstd    7.849669e-12  3.697308e-13  9.954290e-13        50.348316   \nmin    6.453000e+02  3.543194e+01 -8.253750e+01       290.000000   \n25%    6.453000e+02  3.543194e+01 -8.253750e+01       322.000000   \n50%    6.453000e+02  3.543194e+01 -8.253750e+01       352.000000   \n75%    6.453000e+02  3.543194e+01 -8.253750e+01       407.250000   \nmax    6.453000e+02  3.543194e+01 -8.253750e+01       465.000000   \n\n       HLY-PRES-NORMAL  HLY-DEWP-NORMAL  \ncount       744.000000       744.000000  \nmean      10198.615591       263.716398  \nstd           8.668259        14.235151  \nmin       10179.000000       237.000000  \n25%       10193.000000       253.000000  \n50%       10199.000000       260.000000  \n75%       10204.250000       274.250000  \nmax       10221.000000       297.000000  "
                    },
                    "execution_count": 3,
                    "metadata": {},
                    "output_type": "execute_result"
                }
            ],
            "source": "df_data_1.describe()"
        },
        {
            "cell_type": "code",
            "execution_count": null,
            "metadata": {},
            "outputs": [],
            "source": ""
        },
        {
            "cell_type": "code",
            "execution_count": null,
            "metadata": {},
            "outputs": [],
            "source": ""
        }
    ],
    "metadata": {
        "kernelspec": {
            "display_name": "Python 3.6",
            "language": "python",
            "name": "python3"
        },
        "language_info": {
            "codemirror_mode": {
                "name": "ipython",
                "version": 3
            },
            "file_extension": ".py",
            "mimetype": "text/x-python",
            "name": "python",
            "nbconvert_exporter": "python",
            "pygments_lexer": "ipython3",
            "version": "3.6.9"
        }
    },
    "nbformat": 4,
    "nbformat_minor": 1
}